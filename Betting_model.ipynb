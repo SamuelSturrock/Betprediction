{
  "nbformat": 4,
  "nbformat_minor": 0,
  "metadata": {
    "colab": {
      "name": "Betting_model.ipynb",
      "provenance": [],
      "collapsed_sections": [],
      "include_colab_link": true
    },
    "kernelspec": {
      "name": "python3",
      "display_name": "Python 3"
    },
    "language_info": {
      "name": "python"
    }
  },
  "cells": [
    {
      "cell_type": "markdown",
      "metadata": {
        "id": "view-in-github",
        "colab_type": "text"
      },
      "source": [
        "<a href=\"https://colab.research.google.com/github/SamuelSturrock/Betprediction/blob/main/Betting_model.ipynb\" target=\"_parent\"><img src=\"https://colab.research.google.com/assets/colab-badge.svg\" alt=\"Open In Colab\"/></a>"
      ]
    },
    {
      "cell_type": "code",
      "execution_count": null,
      "metadata": {
        "id": "La8by35zWO9f"
      },
      "outputs": [],
      "source": [
        "import pandas as pd\n",
        "import sklearn\n",
        "from numpy import array\n",
        "from numpy import argmax\n",
        "import keras\n",
        "from sklearn.model_selection import train_test_split\n",
        "from sklearn.tree import DecisionTreeRegressor\n",
        "from sklearn.preprocessing import OneHotEncoder\n",
        "from sklearn.metrics import accuracy_score\n",
        "from sklearn.svm import SVR\n"
      ]
    },
    {
      "cell_type": "code",
      "source": [
        "!git clone https://github.com/SamuelSturrock/Betprediction.git"
      ],
      "metadata": {
        "colab": {
          "base_uri": "https://localhost:8080/"
        },
        "id": "jMxJGfhZ5P0Z",
        "outputId": "702be955-6ac6-400c-be0c-80633f276132"
      },
      "execution_count": 100,
      "outputs": [
        {
          "output_type": "stream",
          "name": "stdout",
          "text": [
            "Cloning into 'Betprediction'...\n",
            "remote: Enumerating objects: 26, done.\u001b[K\n",
            "remote: Counting objects: 100% (26/26), done.\u001b[K\n",
            "remote: Compressing objects: 100% (23/23), done.\u001b[K\n",
            "remote: Total 26 (delta 5), reused 0 (delta 0), pack-reused 0\u001b[K\n",
            "Unpacking objects: 100% (26/26), done.\n"
          ]
        }
      ]
    },
    {
      "cell_type": "code",
      "source": [
        "testdatapath = '/content/Betprediction/data/epl-2021-GMTStandardTime.csv'\n",
        "testData = pd.read_csv(testdatapath) \n",
        "\n",
        "# Define model. Specify a number for random_state to ensure same results each run\n",
        "model = DecisionTreeRegressor(random_state=1)\n",
        "\n",
        "#X = pd.get_dummies(X)\n",
        "\n",
        "testData.drop(\"Match Number\", axis=1, inplace=True)\n",
        "\n",
        "\n",
        "X = testData\n",
        "\n",
        "X = X.dropna(axis=0)\n",
        "y = y.dropna(axis=0)\n",
        "\n",
        "z = X.Result\n",
        "X.drop(\"Result\", axis=1, inplace=True)\n",
        "\n",
        "\n",
        "\n",
        "#Get win/draw/lose based off score\n",
        "results = []\n",
        "for x in z:\n",
        "  x = x.split()\n",
        "  res = int(x[0]) - int(x[2])\n",
        "  if res > 0:\n",
        "   results.append(\"Win\")\n",
        "  elif res == 0:\n",
        "   results.append(\"Draw\")\n",
        "  else:\n",
        "   results.append(\"Lose\")\n",
        "\n",
        "\n",
        "X['Results'] = results\n",
        "y = X.Results\n",
        "X.drop(\"Results\", axis=1, inplace=True)\n",
        "\n",
        "X = pd.get_dummies(X)\n",
        "y = pd.get_dummies(y)\n",
        "\n",
        "\n",
        "X_train, X_test, y_train, y_test = train_test_split(X, y)\n",
        "\n",
        "model.fit(X_train, y_train)\n",
        "\n",
        "pred  = model.predict(X_test)\n",
        "\n",
        "print(accuracy_score(y_test,pred))"
      ],
      "metadata": {
        "colab": {
          "base_uri": "https://localhost:8080/"
        },
        "id": "YsxlsuwmYET5",
        "outputId": "a91c2e45-ab22-43cc-bbb0-7e111b08ed46"
      },
      "execution_count": 107,
      "outputs": [
        {
          "output_type": "stream",
          "name": "stdout",
          "text": [
            "0.4222222222222222\n"
          ]
        },
        {
          "output_type": "stream",
          "name": "stderr",
          "text": [
            "/usr/local/lib/python3.7/dist-packages/pandas/core/frame.py:4913: SettingWithCopyWarning: \n",
            "A value is trying to be set on a copy of a slice from a DataFrame\n",
            "\n",
            "See the caveats in the documentation: https://pandas.pydata.org/pandas-docs/stable/user_guide/indexing.html#returning-a-view-versus-a-copy\n",
            "  errors=errors,\n",
            "/usr/local/lib/python3.7/dist-packages/ipykernel_launcher.py:35: SettingWithCopyWarning: \n",
            "A value is trying to be set on a copy of a slice from a DataFrame.\n",
            "Try using .loc[row_indexer,col_indexer] = value instead\n",
            "\n",
            "See the caveats in the documentation: https://pandas.pydata.org/pandas-docs/stable/user_guide/indexing.html#returning-a-view-versus-a-copy\n"
          ]
        }
      ]
    }
  ]
}